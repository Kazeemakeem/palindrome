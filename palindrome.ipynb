{
 "cells": [
  {
   "cell_type": "code",
   "execution_count": 1,
   "metadata": {},
   "outputs": [],
   "source": [
    "def palindromee_simple(string):\n",
    "    #break the sentence into a list of words\n",
    "    word_list = string.split()\n",
    "    \n",
    "    #concatenate the list without spaces\n",
    "    letter_concat = \"\".join(word_list)\n",
    "    \n",
    "    #reverse the indexing of the concatenated list\n",
    "    letter_join = \"\".join(word_list)[::-1]\n",
    "    \n",
    "    #check if the result is the same with forwards spelling\n",
    "    return letter_concat.lower() == letter_join.lower()"
   ]
  },
  {
   "cell_type": "code",
   "execution_count": 3,
   "metadata": {},
   "outputs": [
    {
     "data": {
      "text/plain": [
       "True"
      ]
     },
     "execution_count": 3,
     "metadata": {},
     "output_type": "execute_result"
    }
   ],
   "source": [
    "palindromee_simple('do geese see god')"
   ]
  },
  {
   "cell_type": "code",
   "execution_count": 11,
   "metadata": {},
   "outputs": [],
   "source": [
    "def palindromee(string):\n",
    "    word_list = string.split()\n",
    "    #print(word_list)\n",
    "    #word_index = [x for x in range(0,len(word_list))]\n",
    "    letter_join = \"\".join(word_list)[::-1]\n",
    "    #print(letter_join)\n",
    "    #for i in word_index:\n",
    "    reverse_arr = []\n",
    "    start = 0\n",
    "    for word in word_list:\n",
    "        if word_list.index(word) == 0:\n",
    "            reverse_arr.append(letter_join[start:len(word)])\n",
    "        else:\n",
    "            y = word_list.index(word)\n",
    "            z = len(word_list[y])\n",
    "            if z - len(current_concat) == 1:\n",
    "                reverse_arr.append(letter_join[start])\n",
    "            reverse_arr.append(letter_join[start:len(current_concat) + z])              \n",
    "        current_concat = \"\".join(reverse_arr)\n",
    "        start = len(current_concat)\n",
    "    final_string = \" \".join(reverse_arr)\n",
    "    print('The sentence for check spelt as: ' + string.lower())\n",
    "    print ('The reverse string is spelt as: ' + final_string.lower()) \n",
    "    return string.lower() == final_string.lower()"
   ]
  },
  {
   "cell_type": "code",
   "execution_count": 12,
   "metadata": {},
   "outputs": [
    {
     "name": "stdout",
     "output_type": "stream",
     "text": [
      "The sentence for check spelt as: do geese see god\n",
      "The reverse string is spelt as: do geese see god\n"
     ]
    },
    {
     "data": {
      "text/plain": [
       "True"
      ]
     },
     "execution_count": 12,
     "metadata": {},
     "output_type": "execute_result"
    }
   ],
   "source": [
    "palindromee('do geese see god')"
   ]
  },
  {
   "cell_type": "code",
   "execution_count": null,
   "metadata": {},
   "outputs": [],
   "source": []
  }
 ],
 "metadata": {
  "kernelspec": {
   "display_name": "Python 3",
   "language": "python",
   "name": "python3"
  },
  "language_info": {
   "codemirror_mode": {
    "name": "ipython",
    "version": 3
   },
   "file_extension": ".py",
   "mimetype": "text/x-python",
   "name": "python",
   "nbconvert_exporter": "python",
   "pygments_lexer": "ipython3",
   "version": "3.7.4"
  }
 },
 "nbformat": 4,
 "nbformat_minor": 2
}
